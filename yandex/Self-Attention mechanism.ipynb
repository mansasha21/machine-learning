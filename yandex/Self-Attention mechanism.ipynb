{
 "cells": [
  {
   "cell_type": "code",
   "execution_count": 1,
   "metadata": {},
   "outputs": [],
   "source": [
    "import numpy as np\n",
    "from scipy.special import softmax"
   ]
  },
  {
   "cell_type": "code",
   "execution_count": 2,
   "metadata": {},
   "outputs": [],
   "source": [
    "w = np.array([[1,0,2],[0,1,3],[1,3,0], [0,0,0]])\n",
    "query = np.array([0,0,1])\n",
    "unnorm = np.dot(w,query)\n",
    "atten = softmax(unnorm)\n",
    "result = np.dot(atten,w)"
   ]
  },
  {
   "cell_type": "code",
   "execution_count": 3,
   "metadata": {},
   "outputs": [
    {
     "data": {
      "text/plain": [
       "array([0.28461991, 0.78323514, 2.54574246])"
      ]
     },
     "execution_count": 3,
     "metadata": {},
     "output_type": "execute_result"
    }
   ],
   "source": [
    "result"
   ]
  },
  {
   "cell_type": "code",
   "execution_count": 15,
   "metadata": {},
   "outputs": [],
   "source": [
    "logits = np.array([[1.,0.,1.,0.],[0.,1.,1.,0.],[1.,1.,2.,0.],[0.,0.,0.,0.]])\n",
    "atten = softmax(logits,axis=1)\n",
    "inp = np.array([[1.,0.], [0.,1.], [1.,1.], [0.,0.]])"
   ]
  },
  {
   "cell_type": "code",
   "execution_count": 29,
   "metadata": {},
   "outputs": [],
   "source": [
    "inp = np.array([[1.,0.], [0.,1.], [1.,1.], [0.,0.]])\n",
    "projK1 = np.array([[1.,0.], [0.,0.]])\n",
    "projK2 = np.array([[0.,0.], [1.,0.]])\n",
    "projQ1 = np.array([[0.,1.], [1.,0.]])\n",
    "projQ2 = np.array([[1.,1.], [1.,1.]])\n",
    "projV1 = np.array([1.,0.])\n",
    "projV2 = np.array([0.,1.])\n",
    "keys1 = np.dot(inp,projK1)\n",
    "queries1 = np.dot(inp,projQ1)\n",
    "values1 = np.dot(inp,projV1)\n",
    "logits1 = np.dot(queries1, keys1.T)\n",
    "atten1 = softmax(logits1, axis=1)\n",
    "result1 = np.dot(atten1, values1)\n",
    "keys2 = np.dot(inp,projK2)\n",
    "queries2 = np.dot(inp,projQ2)\n",
    "values2 = np.dot(inp,projV2)\n",
    "logits2 = np.dot(queries2, keys2.T)\n",
    "atten2 = softmax(logits2, axis=1)\n",
    "result2 = np.dot(atten2, values2)"
   ]
  },
  {
   "cell_type": "code",
   "execution_count": 35,
   "metadata": {},
   "outputs": [
    {
     "data": {
      "text/plain": [
       "array([[0.5       , 0.73105858],\n",
       "       [0.73105858, 0.73105858],\n",
       "       [0.73105858, 0.88079708],\n",
       "       [0.5       , 0.5       ]])"
      ]
     },
     "execution_count": 35,
     "metadata": {},
     "output_type": "execute_result"
    }
   ],
   "source": [
    "np.concatenate(([result1],[result2])).T"
   ]
  },
  {
   "cell_type": "code",
   "execution_count": null,
   "metadata": {},
   "outputs": [],
   "source": []
  }
 ],
 "metadata": {
  "kernelspec": {
   "display_name": "Python 3",
   "language": "python",
   "name": "python3"
  },
  "language_info": {
   "codemirror_mode": {
    "name": "ipython",
    "version": 3
   },
   "file_extension": ".py",
   "mimetype": "text/x-python",
   "name": "python",
   "nbconvert_exporter": "python",
   "pygments_lexer": "ipython3",
   "version": "3.7.6"
  }
 },
 "nbformat": 4,
 "nbformat_minor": 2
}
